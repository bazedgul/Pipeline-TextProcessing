{
  "nbformat": 4,
  "nbformat_minor": 0,
  "metadata": {
    "colab": {
      "provenance": [],
      "authorship_tag": "ABX9TyOcccXYFxvhcycro8L3yGlt",
      "include_colab_link": true
    },
    "kernelspec": {
      "name": "python3",
      "display_name": "Python 3"
    },
    "language_info": {
      "name": "python"
    }
  },
  "cells": [
    {
      "cell_type": "markdown",
      "metadata": {
        "id": "view-in-github",
        "colab_type": "text"
      },
      "source": [
        "<a href=\"https://colab.research.google.com/github/bazedgul/Pipeline-TextProcessing/blob/main/PipeLine.ipynb\" target=\"_parent\"><img src=\"https://colab.research.google.com/assets/colab-badge.svg\" alt=\"Open In Colab\"/></a>"
      ]
    },
    {
      "cell_type": "code",
      "execution_count": 33,
      "metadata": {
        "id": "s2ZHsNU2HqjO"
      },
      "outputs": [],
      "source": []
    },
    {
      "cell_type": "code",
      "source": [],
      "metadata": {
        "id": "6qJKqUkGdHfb"
      },
      "execution_count": 33,
      "outputs": []
    },
    {
      "cell_type": "markdown",
      "source": [
        "Text Preprocessing | tokenization | cleaning | stemming | stopwords | lemmatization"
      ],
      "metadata": {
        "id": "_3poyoi81JZh"
      }
    },
    {
      "cell_type": "code",
      "source": [],
      "metadata": {
        "id": "5n8f275DdJeA"
      },
      "execution_count": 33,
      "outputs": []
    },
    {
      "cell_type": "code",
      "source": [
        "import pandas as pd\n",
        "import re"
      ],
      "metadata": {
        "id": "X0YMx0DwdPQv"
      },
      "execution_count": 30,
      "outputs": []
    },
    {
      "cell_type": "code",
      "source": [
        "# Removing Punctuation and Symbols\n",
        "punctuation = \"!@#$%^&*()_+={}''[]\"\"<>,./?|\\/\"\n",
        "Name = \"Hello ! I am Bazed @##$#%$#^$%&**(*&^%$#)\"\n",
        "\n",
        "no_punctuation = \"\"\n",
        "for char in Name:\n",
        "  if(char not in punctuation):\n",
        "    no_punctuation = no_punctuation + char\n",
        "\n",
        "\n",
        "print(no_punctuation)"
      ],
      "metadata": {
        "colab": {
          "base_uri": "https://localhost:8080/"
        },
        "id": "meexCn2tdYkf",
        "outputId": "873bbccd-2108-4bb7-e4c2-f2ee7402c27c"
      },
      "execution_count": 29,
      "outputs": [
        {
          "output_type": "stream",
          "name": "stdout",
          "text": [
            "Hello  I am Bazed \n"
          ]
        }
      ]
    },
    {
      "cell_type": "code",
      "source": [
        "# Removing Punctuation and Symbols (Cleaning) with Regex\n",
        "datfa = \"Hello. Coding With. Bazed !!@@##@$)(*&^%$#)\"\n",
        "data = re.sub(r'[^\\w\\s]','',data)\n",
        "data"
      ],
      "metadata": {
        "colab": {
          "base_uri": "https://localhost:8080/",
          "height": 35
        },
        "id": "nvEieov_aVon",
        "outputId": "89b4752e-34c3-4f3b-8d89-2b9ba3e542b6"
      },
      "execution_count": 33,
      "outputs": [
        {
          "output_type": "execute_result",
          "data": {
            "text/plain": [
              "'Hello Coding With Bazed '"
            ],
            "application/vnd.google.colaboratory.intrinsic+json": {
              "type": "string"
            }
          },
          "metadata": {},
          "execution_count": 33
        }
      ]
    },
    {
      "cell_type": "code",
      "source": [],
      "metadata": {
        "colab": {
          "base_uri": "https://localhost:8080/",
          "height": 35
        },
        "id": "BwLbjhl3anPn",
        "outputId": "7aca7bea-1afc-424c-84e0-2a7322cbb76b"
      },
      "execution_count": 32,
      "outputs": [
        {
          "output_type": "execute_result",
          "data": {
            "text/plain": [
              "'Hello Coding With Bazed '"
            ],
            "application/vnd.google.colaboratory.intrinsic+json": {
              "type": "string"
            }
          },
          "metadata": {},
          "execution_count": 32
        }
      ]
    },
    {
      "cell_type": "markdown",
      "source": [
        "# New Section"
      ],
      "metadata": {
        "id": "ZVqwTjHVaZrv"
      }
    }
  ]
}